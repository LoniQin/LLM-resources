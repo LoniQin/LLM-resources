{
  "nbformat": 4,
  "nbformat_minor": 0,
  "metadata": {
    "colab": {
      "provenance": [],
      "machine_shape": "hm",
      "gpuType": "T4",
      "authorship_tag": "ABX9TyNZ7HGHT+gyONBQ+OB66F9Z",
      "include_colab_link": true
    },
    "kernelspec": {
      "name": "python3",
      "display_name": "Python 3"
    },
    "language_info": {
      "name": "python"
    },
    "accelerator": "GPU"
  },
  "cells": [
    {
      "cell_type": "markdown",
      "metadata": {
        "id": "view-in-github",
        "colab_type": "text"
      },
      "source": [
        "<a href=\"https://colab.research.google.com/github/LoniQin/LLM-resources/blob/main/Chatbot_with_mamba_chat.ipynb\" target=\"_parent\"><img src=\"https://colab.research.google.com/assets/colab-badge.svg\" alt=\"Open In Colab\"/></a>"
      ]
    },
    {
      "cell_type": "markdown",
      "source": [
        "# Chatbot with mamba-chat"
      ],
      "metadata": {
        "id": "aAYbaX2DB9DJ"
      }
    },
    {
      "cell_type": "markdown",
      "source": [
        "1. First download and install repository https://github.com/havenhq/mamba-chat.git. If you are in Google Colab, you may run following command to avoid issue:\n",
        "```\n",
        "!echo /usr/lib64-nvidia/ >/etc/ld.so.conf.d/libcuda.conf; ldconfig\n",
        "```"
      ],
      "metadata": {
        "id": "pt0oLmucB_jl"
      }
    },
    {
      "cell_type": "code",
      "source": [
        "!git clone https://github.com/havenhq/mamba-chat.git\n",
        "!pip install -r mamba-chat/requirements.txt\n",
        "!echo /usr/lib64-nvidia/ >/etc/ld.so.conf.d/libcuda.conf; ldconfig"
      ],
      "metadata": {
        "colab": {
          "base_uri": "https://localhost:8080/"
        },
        "id": "Y0dDNLVOCB0Y",
        "outputId": "afe3393f-a5eb-42a2-f164-283e3786e7c3"
      },
      "execution_count": 1,
      "outputs": [
        {
          "output_type": "stream",
          "name": "stdout",
          "text": [
            "Cloning into 'mamba-chat'...\n",
            "remote: Enumerating objects: 113, done.\u001b[K\n",
            "remote: Counting objects: 100% (61/61), done.\u001b[K\n",
            "remote: Compressing objects: 100% (15/15), done.\u001b[K\n",
            "remote: Total 113 (delta 57), reused 46 (delta 46), pack-reused 52\u001b[K\n",
            "Receiving objects: 100% (113/113), 730.12 KiB | 14.04 MiB/s, done.\n",
            "Resolving deltas: 100% (58/58), done.\n"
          ]
        }
      ]
    },
    {
      "cell_type": "markdown",
      "source": [
        "Open terminal, go to the downloaded github repository and input following command. Finally you can chat with Mamba in terminal.\n",
        "```\n",
        "python chat.py\n",
        "```"
      ],
      "metadata": {
        "id": "ILNPOFwtE2ni"
      }
    }
  ]
}